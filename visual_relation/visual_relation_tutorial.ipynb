{
 "cells": [
  {
   "cell_type": "markdown",
   "metadata": {},
   "source": [
    "# Visual Relationship Detection\n",
    "\n",
    "In this tutorial, we focus on the task of classifying visual relationships between objects in an image. For any given image, there might be many such relationships, defined formally as a `subject <predictate> object` (e.g. `person <riding> bike`). As an example, in the relationship `man riding bicycle`), \"man\" and \"bicycle\" are the subject and object, respectively, and \"riding\" is the relationship predicate.\n",
    "\n",
    "![Visual Relationships](https://cs.stanford.edu/people/ranjaykrishna/vrd/dataset.png)\n",
    "\n",
    "In the examples of the relationships shown above, the red box represents the _subject_ while the green box represents the _object_. The _predicate_ (e.g. kick) denotes what relationship connects the subject and the object.\n",
    "\n",
    "For the purpose of this tutorial, we operate over the [Visual Relationship Detection (VRD) dataset](https://cs.stanford.edu/people/ranjaykrishna/vrd/) and focus on action relationships. We define our classification task as **identifying which of three relationships holds between the objects represented by a pair of bounding boxes.**"
   ]
  },
  {
   "cell_type": "code",
   "execution_count": 1,
   "metadata": {
    "tags": [
     "md-exclude"
    ]
   },
   "outputs": [],
   "source": [
    "import os\n",
    "\n",
    "if os.path.basename(os.getcwd()) == \"snorkel-tutorials\":\n",
    "    os.chdir(\"visual_relation\")"
   ]
  },
  {
   "cell_type": "markdown",
   "metadata": {},
   "source": [
    "### 1. Load Dataset\n",
    "We load the VRD dataset and filter images with at least one action predicate in it, since these are more difficult to classify than geometric relationships like `above` or `next to`. We load the train, valid, and test sets as Pandas `DataFrame` objects with the following fields:\n",
    "- `label`: The relationship between the objects. 0: `RIDE`, 1: `CARRY`, 2: `OTHER` action predicates\n",
    "- `object_bbox`: coordinates of the bounding box for the object `[ymin, ymax, xmin, xmax]`\n",
    "- `object_category`: category of the object\n",
    "- `source_img`: filename for the corresponding image the relationship is in\n",
    "- `subject_bbox`: coordinates of the bounding box for the object `[ymin, ymax, xmin, xmax]`\n",
    "- `subject_category`: category of the subject"
   ]
  },
  {
   "cell_type": "markdown",
   "metadata": {},
   "source": [
    "If you are running this notebook for the first time, it will take ~15 mins to download all the required sample data.\n",
    "\n",
    "The sampled version of the dataset **uses the same 26 data points across the train, dev, and test sets.\n",
    "This setting is meant to demonstrate quickly how Snorkel works with this task, not to demonstrate performance.**"
   ]
  },
  {
   "cell_type": "code",
   "execution_count": 2,
   "metadata": {},
   "outputs": [
    {
     "name": "stdout",
     "output_type": "stream",
     "text": [
      "Train Relationships:  635\n",
      "Dev Relationships:  216\n",
      "Test Relationships:  194\n"
     ]
    }
   ],
   "source": [
    "from utils import load_vrd_data\n",
    "\n",
    "# setting sample=False will take ~3 hours to run (downloads full VRD dataset)\n",
    "sample = False\n",
    "is_test = os.environ.get(\"TRAVIS\") == \"true\" or os.environ.get(\"IS_TEST\") == \"true\"\n",
    "df_train, df_valid, df_test = load_vrd_data(sample, is_test)\n",
    "\n",
    "print(\"Train Relationships: \", len(df_train))\n",
    "print(\"Dev Relationships: \", len(df_valid))\n",
    "print(\"Test Relationships: \", len(df_test))"
   ]
  },
  {
   "cell_type": "markdown",
   "metadata": {},
   "source": [
    "Note that the training `DataFrame` will have a labels field with all -1s. This denotes the lack of labels for that particular dataset. In this tutorial, we will assign probabilistic labels to the training set by writing labeling functions over attributes of the subject and objects!"
   ]
  },
  {
   "cell_type": "markdown",
   "metadata": {},
   "source": [
    "## 2. Writing Labeling Functions\n",
    "We now write labeling functions to detect what relationship exists between pairs of bounding boxes. To do so, we can encode various intuitions into the labeling functions:\n",
    "* _Categorical_ intution: knowledge about the categories of subjects and objects usually involved in these relationships (e.g., `person` is usually the subject for predicates like `ride` and `carry`)\n",
    "* _Spatial_ intuition: knowledge about the relative positions of the subject and objects (e.g., subject is usually higher than the object for the predicate `ride`)"
   ]
  },
  {
   "cell_type": "code",
   "execution_count": 3,
   "metadata": {},
   "outputs": [],
   "source": [
    "RIDE = 0\n",
    "CARRY = 1\n",
    "OTHER = 2\n",
    "ABSTAIN = -1"
   ]
  },
  {
   "cell_type": "markdown",
   "metadata": {},
   "source": [
    "We begin with labeling functions that encode categorical intuition: we use knowledge about common subject-object category pairs that are common for `RIDE` and `CARRY` and also knowledge about what subjects or objects are unlikely to be involved in the two relationships."
   ]
  },
  {
   "cell_type": "code",
   "execution_count": 4,
   "metadata": {},
   "outputs": [],
   "source": [
    "from snorkel.labeling import labeling_function\n",
    "\n",
    "# Category-based LFs\n",
    "@labeling_function()\n",
    "def lf_ride_object(x):\n",
    "    if x.subject_category == \"person\":\n",
    "        if x.object_category in [\n",
    "            \"bike\",\n",
    "            \"snowboard\",\n",
    "            \"motorcycle\",\n",
    "            \"horse\",\n",
    "            \"bus\",\n",
    "            \"truck\",\n",
    "            \"elephant\",\n",
    "        ]:\n",
    "            return RIDE\n",
    "    return ABSTAIN\n",
    "\n",
    "\n",
    "@labeling_function()\n",
    "def lf_carry_object(x):\n",
    "    if x.subject_category == \"person\":\n",
    "        if x.object_category in [\"bag\", \"surfboard\", \"skis\"]:\n",
    "            return CARRY\n",
    "    return ABSTAIN\n",
    "\n",
    "\n",
    "@labeling_function()\n",
    "def lf_carry_subject(x):\n",
    "    if x.object_category == \"person\":\n",
    "        if x.subject_category in [\"chair\", \"bike\", \"snowboard\", \"motorcycle\", \"horse\"]:\n",
    "            return CARRY\n",
    "    return ABSTAIN\n",
    "\n",
    "\n",
    "@labeling_function()\n",
    "def lf_not_person(x):\n",
    "    if x.subject_category != \"person\":\n",
    "        return OTHER\n",
    "    return ABSTAIN"
   ]
  },
  {
   "cell_type": "markdown",
   "metadata": {},
   "source": [
    "We now encode our spatial intuition, which includes measuring the distance between the bounding boxes and comparing their relative areas."
   ]
  },
  {
   "cell_type": "code",
   "execution_count": 5,
   "metadata": {},
   "outputs": [],
   "source": [
    "YMIN = 0\n",
    "YMAX = 1\n",
    "XMIN = 2\n",
    "XMAX = 3"
   ]
  },
  {
   "cell_type": "code",
   "execution_count": 6,
   "metadata": {},
   "outputs": [],
   "source": [
    "import numpy as np\n",
    "\n",
    "# Distance-based LFs\n",
    "@labeling_function()\n",
    "def lf_ydist(x):\n",
    "    if x.subject_bbox[XMAX] < x.object_bbox[XMAX]:\n",
    "        return OTHER\n",
    "    return ABSTAIN\n",
    "\n",
    "\n",
    "@labeling_function()\n",
    "def lf_dist(x):\n",
    "    if np.linalg.norm(np.array(x.subject_bbox) - np.array(x.object_bbox)) <= 1000:\n",
    "        return OTHER\n",
    "    return ABSTAIN\n",
    "\n",
    "\n",
    "def area(bbox):\n",
    "    return (bbox[YMAX] - bbox[YMIN]) * (bbox[XMAX] - bbox[XMIN])\n",
    "\n",
    "\n",
    "# Size-based LF\n",
    "@labeling_function()\n",
    "def lf_area(x):\n",
    "    if area(x.subject_bbox) / area(x.object_bbox) <= 0.5:\n",
    "        return OTHER\n",
    "    return ABSTAIN"
   ]
  },
  {
   "cell_type": "markdown",
   "metadata": {},
   "source": [
    "Note that the labeling functions have varying empirical accuracies and coverages. Due to class imbalance in our chosen relationships, labeling functions that label the `OTHER` class have higher coverage than labeling functions for `RIDE` or `CARRY`. This reflects the distribution of classes in the dataset as well."
   ]
  },
  {
   "cell_type": "code",
   "execution_count": 7,
   "metadata": {
    "tags": [
     "md-exclude-output"
    ]
   },
   "outputs": [
    {
     "name": "stderr",
     "output_type": "stream",
     "text": [
      "100%|████████████████████████████████████████████████████████████████████████████████████████████████████████████████| 635/635 [00:00<00:00, 5374.90it/s]\n",
      "100%|███████████████████████████████████████████████████████████████████████████████████████████████████████████████| 216/216 [00:00<00:00, 10050.47it/s]\n"
     ]
    }
   ],
   "source": [
    "from snorkel.labeling import PandasLFApplier\n",
    "\n",
    "lfs = [\n",
    "    lf_ride_object,\n",
    "    lf_carry_object,\n",
    "    lf_carry_subject,\n",
    "    lf_not_person,\n",
    "    lf_ydist,\n",
    "    lf_dist,\n",
    "    lf_area,\n",
    "]\n",
    "\n",
    "applier = PandasLFApplier(lfs)\n",
    "L_train = applier.apply(df_train)\n",
    "L_valid = applier.apply(df_valid)"
   ]
  },
  {
   "cell_type": "code",
   "execution_count": 8,
   "metadata": {},
   "outputs": [
    {
     "data": {
      "text/html": [
       "<div>\n",
       "<style scoped>\n",
       "    .dataframe tbody tr th:only-of-type {\n",
       "        vertical-align: middle;\n",
       "    }\n",
       "\n",
       "    .dataframe tbody tr th {\n",
       "        vertical-align: top;\n",
       "    }\n",
       "\n",
       "    .dataframe thead th {\n",
       "        text-align: right;\n",
       "    }\n",
       "</style>\n",
       "<table border=\"1\" class=\"dataframe\">\n",
       "  <thead>\n",
       "    <tr style=\"text-align: right;\">\n",
       "      <th></th>\n",
       "      <th>j</th>\n",
       "      <th>Polarity</th>\n",
       "      <th>Coverage</th>\n",
       "      <th>Overlaps</th>\n",
       "      <th>Conflicts</th>\n",
       "      <th>Correct</th>\n",
       "      <th>Incorrect</th>\n",
       "      <th>Emp. Acc.</th>\n",
       "    </tr>\n",
       "  </thead>\n",
       "  <tbody>\n",
       "    <tr>\n",
       "      <th>lf_ride_object</th>\n",
       "      <td>0</td>\n",
       "      <td>[0]</td>\n",
       "      <td>0.175926</td>\n",
       "      <td>0.175926</td>\n",
       "      <td>0.175926</td>\n",
       "      <td>29</td>\n",
       "      <td>9</td>\n",
       "      <td>0.763158</td>\n",
       "    </tr>\n",
       "    <tr>\n",
       "      <th>lf_carry_object</th>\n",
       "      <td>1</td>\n",
       "      <td>[1]</td>\n",
       "      <td>0.120370</td>\n",
       "      <td>0.120370</td>\n",
       "      <td>0.120370</td>\n",
       "      <td>20</td>\n",
       "      <td>6</td>\n",
       "      <td>0.769231</td>\n",
       "    </tr>\n",
       "    <tr>\n",
       "      <th>lf_carry_subject</th>\n",
       "      <td>2</td>\n",
       "      <td>[1]</td>\n",
       "      <td>0.041667</td>\n",
       "      <td>0.041667</td>\n",
       "      <td>0.041667</td>\n",
       "      <td>9</td>\n",
       "      <td>0</td>\n",
       "      <td>1.000000</td>\n",
       "    </tr>\n",
       "    <tr>\n",
       "      <th>lf_not_person</th>\n",
       "      <td>3</td>\n",
       "      <td>[2]</td>\n",
       "      <td>0.212963</td>\n",
       "      <td>0.203704</td>\n",
       "      <td>0.041667</td>\n",
       "      <td>32</td>\n",
       "      <td>14</td>\n",
       "      <td>0.695652</td>\n",
       "    </tr>\n",
       "    <tr>\n",
       "      <th>lf_ydist</th>\n",
       "      <td>4</td>\n",
       "      <td>[2]</td>\n",
       "      <td>0.560185</td>\n",
       "      <td>0.550926</td>\n",
       "      <td>0.199074</td>\n",
       "      <td>75</td>\n",
       "      <td>46</td>\n",
       "      <td>0.619835</td>\n",
       "    </tr>\n",
       "    <tr>\n",
       "      <th>lf_dist</th>\n",
       "      <td>5</td>\n",
       "      <td>[2]</td>\n",
       "      <td>0.962963</td>\n",
       "      <td>0.768519</td>\n",
       "      <td>0.337963</td>\n",
       "      <td>122</td>\n",
       "      <td>86</td>\n",
       "      <td>0.586538</td>\n",
       "    </tr>\n",
       "    <tr>\n",
       "      <th>lf_area</th>\n",
       "      <td>6</td>\n",
       "      <td>[2]</td>\n",
       "      <td>0.296296</td>\n",
       "      <td>0.291667</td>\n",
       "      <td>0.078704</td>\n",
       "      <td>48</td>\n",
       "      <td>16</td>\n",
       "      <td>0.750000</td>\n",
       "    </tr>\n",
       "  </tbody>\n",
       "</table>\n",
       "</div>"
      ],
      "text/plain": [
       "                  j Polarity  Coverage  Overlaps  Conflicts  Correct  \\\n",
       "lf_ride_object    0      [0]  0.175926  0.175926   0.175926       29   \n",
       "lf_carry_object   1      [1]  0.120370  0.120370   0.120370       20   \n",
       "lf_carry_subject  2      [1]  0.041667  0.041667   0.041667        9   \n",
       "lf_not_person     3      [2]  0.212963  0.203704   0.041667       32   \n",
       "lf_ydist          4      [2]  0.560185  0.550926   0.199074       75   \n",
       "lf_dist           5      [2]  0.962963  0.768519   0.337963      122   \n",
       "lf_area           6      [2]  0.296296  0.291667   0.078704       48   \n",
       "\n",
       "                  Incorrect  Emp. Acc.  \n",
       "lf_ride_object            9   0.763158  \n",
       "lf_carry_object           6   0.769231  \n",
       "lf_carry_subject          0   1.000000  \n",
       "lf_not_person            14   0.695652  \n",
       "lf_ydist                 46   0.619835  \n",
       "lf_dist                  86   0.586538  \n",
       "lf_area                  16   0.750000  "
      ]
     },
     "execution_count": 8,
     "metadata": {},
     "output_type": "execute_result"
    }
   ],
   "source": [
    "from snorkel.labeling import LFAnalysis\n",
    "\n",
    "Y_valid = df_valid.label.values\n",
    "LFAnalysis(L_valid, lfs).lf_summary(Y_valid)"
   ]
  },
  {
   "cell_type": "markdown",
   "metadata": {},
   "source": [
    "## 3. Train Label Model\n",
    "We now train a multi-class `LabelModel` to assign training labels to the unalabeled training set."
   ]
  },
  {
   "cell_type": "code",
   "execution_count": 9,
   "metadata": {},
   "outputs": [
    {
     "name": "stderr",
     "output_type": "stream",
     "text": [
      "INFO:root:Computing O...\n",
      "INFO:root:Estimating \\mu...\n",
      "  0%|                                                                                                                         | 0/100 [00:00<?, ?epoch/s]INFO:root:[0 epochs]: TRAIN:[loss=1.612]\n",
      "INFO:root:[10 epochs]: TRAIN:[loss=0.425]\n",
      "INFO:root:[20 epochs]: TRAIN:[loss=0.233]\n",
      "INFO:root:[30 epochs]: TRAIN:[loss=0.066]\n",
      " 40%|████████████████████████████████████████████▍                                                                  | 40/100 [00:00<00:00, 399.14epoch/s]INFO:root:[40 epochs]: TRAIN:[loss=0.062]\n",
      "INFO:root:[50 epochs]: TRAIN:[loss=0.040]\n",
      "INFO:root:[60 epochs]: TRAIN:[loss=0.030]\n",
      "INFO:root:[70 epochs]: TRAIN:[loss=0.026]\n",
      "INFO:root:[80 epochs]: TRAIN:[loss=0.022]\n",
      "INFO:root:[90 epochs]: TRAIN:[loss=0.020]\n",
      "100%|██████████████████████████████████████████████████████████████████████████████████████████████████████████████| 100/100 [00:00<00:00, 660.88epoch/s]\n",
      "INFO:root:Finished Training\n"
     ]
    }
   ],
   "source": [
    "from snorkel.labeling.model import LabelModel\n",
    "\n",
    "label_model = LabelModel(cardinality=3, verbose=True)\n",
    "label_model.fit(L_train, seed=123, lr=0.01, log_freq=10, n_epochs=100)"
   ]
  },
  {
   "cell_type": "markdown",
   "metadata": {},
   "source": [
    "We use [F1](https://scikit-learn.org/stable/modules/generated/sklearn.metrics.f1_score.html) Micro average for the multiclass setting, which calculates metrics globally across classes, by counting the total true positives, false negatives and false positives."
   ]
  },
  {
   "cell_type": "code",
   "execution_count": 10,
   "metadata": {},
   "outputs": [
    {
     "name": "stderr",
     "output_type": "stream",
     "text": [
      "WARNING:root:Metrics calculated over data points with non-abstain labels only\n"
     ]
    },
    {
     "data": {
      "text/plain": [
       "{'f1_micro': 0.7037037037037037}"
      ]
     },
     "execution_count": 10,
     "metadata": {},
     "output_type": "execute_result"
    }
   ],
   "source": [
    "label_model.score(L_valid, Y_valid, metrics=[\"f1_micro\"])"
   ]
  },
  {
   "cell_type": "markdown",
   "metadata": {},
   "source": [
    "## 4. Train a Classifier\n",
    "You can then use these training labels to train any standard discriminative model, such as [an off-the-shelf ResNet](https://github.com/KaimingHe/deep-residual-networks), which should learn to generalize beyond the LF's we've developed!"
   ]
  },
  {
   "cell_type": "markdown",
   "metadata": {},
   "source": [
    "#### Create DataLoaders for Classifier"
   ]
  },
  {
   "cell_type": "code",
   "execution_count": 11,
   "metadata": {},
   "outputs": [
    {
     "name": "stderr",
     "output_type": "stream",
     "text": [
      "INFO:torch.distributed.nn.jit.instantiator:Created a temporary directory at /tmp/tmplup_ss1c\n",
      "INFO:torch.distributed.nn.jit.instantiator:Writing /tmp/tmplup_ss1c/_remote_module_non_scriptable.py\n"
     ]
    }
   ],
   "source": [
    "from snorkel.classification import DictDataLoader\n",
    "from model import SceneGraphDataset, create_model\n",
    "\n",
    "df_train[\"labels\"] = label_model.predict(L_train)\n",
    "\n",
    "# Remove rows where the predicted 'labels' value is ABSTAIN\n",
    "df_train = df_train[df_train['labels'] != ABSTAIN]\n",
    "\n",
    "if sample:\n",
    "    TRAIN_DIR = \"data/VRD/sg_dataset/samples\"\n",
    "else:\n",
    "    TRAIN_DIR = \"data/VRD/sg_dataset/sg_train_images\"\n",
    "\n",
    "dl_train = DictDataLoader(\n",
    "    SceneGraphDataset(\"train_dataset\", \"train\", TRAIN_DIR, df_train),\n",
    "    batch_size=16,\n",
    "    shuffle=True,\n",
    ")\n",
    "\n",
    "dl_valid = DictDataLoader(\n",
    "    SceneGraphDataset(\"valid_dataset\", \"valid\", TRAIN_DIR, df_valid),\n",
    "    batch_size=16,\n",
    "    shuffle=False,\n",
    ")"
   ]
  },
  {
   "cell_type": "markdown",
   "metadata": {},
   "source": [
    "#### Define Model Architecture"
   ]
  },
  {
   "cell_type": "code",
   "execution_count": 12,
   "metadata": {},
   "outputs": [
    {
     "name": "stderr",
     "output_type": "stream",
     "text": [
      "INFO:root:Created task: visual_relation_task\n",
      "INFO:root:Moving model to GPU (cuda:0).\n",
      "INFO:root:Created multi-task model MultitaskClassifier that contains task(s) {'visual_relation_task'} from 6 operations (0 shared) and 4 modules (0 shared).\n",
      "INFO:root:Moving model to GPU (cuda:0).\n"
     ]
    }
   ],
   "source": [
    "import torchvision.models as models\n",
    "\n",
    "# initialize pretrained feature extractor\n",
    "cnn = models.resnet18(weights='DEFAULT')\n",
    "model = create_model(cnn)"
   ]
  },
  {
   "cell_type": "markdown",
   "metadata": {},
   "source": [
    "### Train and Evaluate Model"
   ]
  },
  {
   "cell_type": "code",
   "execution_count": 13,
   "metadata": {
    "tags": [
     "md-exclude-output"
    ]
   },
   "outputs": [
    {
     "name": "stderr",
     "output_type": "stream",
     "text": [
      "INFO:root:Evaluating every 1.0 epochs.\n",
      "INFO:root:Using optimizer Adam (\n",
      "Parameter Group 0\n",
      "    amsgrad: False\n",
      "    betas: (0.9, 0.999)\n",
      "    capturable: False\n",
      "    differentiable: False\n",
      "    eps: 1e-08\n",
      "    foreach: None\n",
      "    fused: False\n",
      "    lr: 0.001\n",
      "    maximize: False\n",
      "    weight_decay: 0.0\n",
      ")\n",
      "INFO:root:Start training...\n",
      "Epoch 0:: 100%|████████████████████████████████████████████████████| 40/40 [00:20<00:00,  1.96it/s, model/all/train/loss=0.891, model/all/train/lr=0.001]\n"
     ]
    }
   ],
   "source": [
    "from snorkel.classification import Trainer\n",
    "\n",
    "trainer = Trainer(\n",
    "    seed=123,\n",
    "    n_epochs=1,  # increase for improved performance\n",
    "    lr=1e-3,\n",
    "    checkpointing=False,\n",
    ")\n",
    "trainer.fit(model, [dl_train])"
   ]
  },
  {
   "cell_type": "code",
   "execution_count": 14,
   "metadata": {},
   "outputs": [
    {
     "data": {
      "text/plain": [
       "{'visual_relation_task/valid_dataset/valid/f1_micro': 0.6712962962962963}"
      ]
     },
     "execution_count": 14,
     "metadata": {},
     "output_type": "execute_result"
    }
   ],
   "source": [
    "model.score([dl_valid])"
   ]
  },
  {
   "cell_type": "markdown",
   "metadata": {},
   "source": [
    "## Recap\n",
    "We have successfully trained a visual relationship detection model! Using categorical and spatial intuition about how objects in a visual relationship interact with each other, we are able to assign high quality training labels to object pairs in the VRD dataset in a multi-class classification setting.\n",
    "\n",
    "For more on how Snorkel can be used for visual relationship tasks, please see our [ICCV 2019 paper](https://arxiv.org/abs/1904.11622)!"
   ]
  }
 ],
 "metadata": {
  "jupytext": {
   "cell_metadata_filter": "tags,-all"
  },
  "kernelspec": {
   "display_name": "Python 3 (ipykernel)",
   "language": "python",
   "name": "python3"
  },
  "language_info": {
   "codemirror_mode": {
    "name": "ipython",
    "version": 3
   },
   "file_extension": ".py",
   "mimetype": "text/x-python",
   "name": "python",
   "nbconvert_exporter": "python",
   "pygments_lexer": "ipython3",
   "version": "3.8.10"
  }
 },
 "nbformat": 4,
 "nbformat_minor": 4
}
